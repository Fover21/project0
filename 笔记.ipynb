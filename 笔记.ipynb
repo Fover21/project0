{
 "cells": [
  {
   "cell_type": "code",
   "execution_count": 1,
   "metadata": {},
   "outputs": [
    {
     "name": "stdout",
     "output_type": "stream",
     "text": [
      "123\n"
     ]
    }
   ],
   "source": [
    "print('123')"
   ]
  },
  {
   "cell_type": "markdown",
   "metadata": {},
   "source": [
    "# 标题\n",
    "<font color='red'>内容<front>\n",
    "\n",
    "# 快捷键\n",
    "  \n",
    " - 插入一个cell：a,b\n",
    " - 删除cell：x\n",
    " - cell模式的切换\n",
    "     - m：切换到markdown模式\n",
    "     - y：切换成code模式\n",
    " - 执行：shift+enter\n",
    " - tab：自动补全\n",
    " - shift+tab：弹出帮助文档\n",
    " \n",
    " \n",
    " \n",
    " - %time 一行代码：计算出当前行的执行时间\n",
    " \n",
    " - %%time：计算出多行代码的运行时长\n",
    "         \n",
    "         for i in range(100):\n",
    "             print('1')\n",
    " \n",
    " - %timeit：平均时长\n",
    " - run xxx.py：运行外部的一个源文件"
   ]
  },
  {
   "cell_type": "code",
   "execution_count": 2,
   "metadata": {},
   "outputs": [
    {
     "name": "stdout",
     "output_type": "stream",
     "text": [
      "111\n",
      "CPU times: user 392 µs, sys: 530 µs, total: 922 µs\n",
      "Wall time: 818 µs\n"
     ]
    }
   ],
   "source": [
    "%time print('111')"
   ]
  },
  {
   "cell_type": "markdown",
   "metadata": {},
   "source": [
    "# 笔记\n",
    "\n",
    "- 爬虫概念\n",
    "\n",
    "    编写程序模拟浏览器上网，然后让其去网上爬取数据的过程\n",
    "\n",
    "\n",
    "- 爬虫的分类\n",
    "\n",
    "    - 通用爬虫：搜索引擎“抓取系统（爬虫程序）”的重要组成部分。\n",
    "    \n",
    "    - 聚焦爬虫：根据指定的需求抓取页面中指定的内容。\n",
    "    \n",
    "- 反爬机制：门户网站可以通过相关的技术手段或者策略来阻止。\n",
    "\n",
    "    - 反爬机制：robots.txt协议\n",
    "\n",
    "- 反反爬策略：爬虫程序通过相关的技术手段或者策略破解反爬。\n"
   ]
  },
  {
   "cell_type": "markdown",
   "metadata": {},
   "source": [
    "- http:超文本传输协议。客户端和服务器端进行数据交互的一种交互形式。\n",
    "- https:安全超文本传输协议。SSL加密层。\n",
    "\n",
    "    请求头信息-User-Agent:请求载体的身份标识\n",
    "    响应头信息-Content-Type:响应的数据类型\n",
    "\n",
    "- SSL加密层\n",
    "\n",
    "    对称秘钥加密\n",
    "    非对称秘钥加密\n",
    "    证书加密\n",
    "    "
   ]
  },
  {
   "cell_type": "markdown",
   "metadata": {},
   "source": [
    "# request模块\n",
    "### 是python中一个原生的基于网络请求的模块\n",
    "### 作用：模拟浏览器发送请求\n",
    "\n",
    "- 安装：pip  install requests\n",
    "\n",
    "### 使用流程\n",
    "\n",
    "    - 指定url\n",
    "    - 发请求请求\n",
    "    - 获取页面数据\n",
    "    - 页面数据做持久化存储"
   ]
  },
  {
   "cell_type": "code",
   "execution_count": 5,
   "metadata": {
    "scrolled": true
   },
   "outputs": [],
   "source": [
    "import requests\n",
    "# 第一步指定url\n",
    "url = 'https://www.sogou.com'\n",
    "# 第二部发起请求\n",
    "response = requests.get(url=url)\n",
    "# 第三步获取页面数据:text属性返回的是页面的数据,content返回二进制页面数据\n",
    "page_text = response.text\n",
    "# print(page_text)\n",
    "# 4\n",
    "with open('./sogou.html', 'w') as f:\n",
    "    f.write(page_text)"
   ]
  },
  {
   "cell_type": "code",
   "execution_count": 16,
   "metadata": {},
   "outputs": [
    {
     "data": {
      "text/plain": [
       "'text/html; charset=UTF-8'"
      ]
     },
     "execution_count": 16,
     "metadata": {},
     "output_type": "execute_result"
    }
   ],
   "source": [
    "# response.json # 返回响应对象中携带的json数据\n",
    "# response.url # 请求的url\n",
    "# response.headers # 字典\n",
    "response.headers['Content-Type']"
   ]
  },
  {
   "cell_type": "code",
   "execution_count": 39,
   "metadata": {},
   "outputs": [
    {
     "name": "stdout",
     "output_type": "stream",
     "text": [
      "<Response [200]>\n"
     ]
    }
   ],
   "source": [
    "# UA反爬机制：对UA进行伪装操作\n",
    "# 请求头信息\n",
    "import requests\n",
    "url = 'https://www.qiushibaike.com'\n",
    "headers = {\n",
    "    'User-Agent':'Mozilla/5.0 (Macintosh; Intel Mac OS X 10_14_1) AppleWebKit/537.36 (KHTML, like Gecko) Chrome/70.0.3538.110 Safari/537.36',\n",
    "}\n",
    "# hearders参数：请求的请求头信息\n",
    "response = requests.get(url=url, headers=headers)\n",
    "print(response)\n",
    "# response.text"
   ]
  },
  {
   "cell_type": "code",
   "execution_count": 1,
   "metadata": {},
   "outputs": [
    {
     "name": "stdout",
     "output_type": "stream",
     "text": [
      "200\n",
      "ok\n"
     ]
    }
   ],
   "source": [
    "# 需求2：登录豆瓣电影\n",
    "import requests\n",
    "import time\n",
    "# 指定url\n",
    "url = 'https://accounts.douban.com/login'\n",
    "headers = {\n",
    "    'User-Agent':'Mozilla/5.0 (Macintosh; Intel Mac OS X 10_14_1) AppleWebKit/537.36 (KHTML, like Gecko) Chrome/70.0.3538.110 Safari/537.36',\n",
    "}\n",
    "# 发请求\n",
    "# 将请求发送的数据封装到字典中\n",
    "data = {\n",
    "    \"source\": \"movie\",\n",
    "    'redir': 'https://movie.douban.com/',\n",
    "    'form_email':'15027900535',\n",
    "    'form_possword':'bobo@15027900535',\n",
    "    'login':'登录',\n",
    "}\n",
    "response = requests.post(url=url, headers=headers,data=data)\n",
    "print(response.status_code)\n",
    "page_text = response.text\n",
    "with open('./douban.html','w') as f:\n",
    "    f.write(page_text)\n",
    "    print('ok')\n",
    "\n"
   ]
  },
  {
   "cell_type": "code",
   "execution_count": 47,
   "metadata": {
    "collapsed": true
   },
   "outputs": [
    {
     "data": {
      "text/plain": [
       "'[{\"rating\":[\"9.5\",\"50\"],\"rank\":2,\"cover_url\":\"https://img3.doubanio.com\\\\/view\\\\/photo\\\\/s_ratio_poster\\\\/public\\\\/p510861873.jpg\",\"is_playable\":true,\"id\":\"1292063\",\"types\":[\"剧情\",\"喜剧\",\"爱情\",\"战争\"],\"regions\":[\"意大利\"],\"title\":\"美丽人生\",\"url\":\"https:\\\\/\\\\/movie.douban.com\\\\/subject\\\\/1292063\\\\/\",\"release_date\":\"1997-12-20\",\"actor_count\":19,\"vote_count\":560426,\"score\":\"9.5\",\"actors\":[\"罗伯托·贝尼尼\",\"尼可莱塔·布拉斯基\",\"乔治·坎塔里尼\",\"朱斯蒂诺·杜拉诺\",\"赛尔乔·比尼·布斯特里克\",\"玛丽萨·帕雷德斯\",\"霍斯特·布赫霍尔茨\",\"利迪娅·阿方西\",\"朱利亚娜·洛约迪切\",\"亚美利哥·丰塔尼\",\"彼得·德·席尔瓦\",\"弗朗西斯·古佐\",\"拉法埃拉·莱博罗尼\",\"克劳迪奥·阿方西\",\"吉尔·巴罗尼\",\"马西莫·比安奇\",\"恩尼奥·孔萨尔维\",\"吉安卡尔洛·科森蒂诺\",\"阿伦·克雷格\"],\"is_watched\":false},{\"rating\":[\"9.4\",\"50\"],\"rank\":3,\"cover_url\":\"https://img1.doubanio.com\\\\/view\\\\/photo\\\\/s_ratio_poster\\\\/public\\\\/p510876377.jpg\",\"is_playable\":true,\"id\":\"1292720\",\"types\":[\"剧情\",\"爱情\"],\"regions\":[\"美国\"],\"title\":\"阿甘正传\",\"url\":\"https:\\\\/\\\\/movie.douban.com\\\\/subject\\\\/1292720\\\\/\",\"release_date\":\"1994-06-23\",\"actor_count\":7,\"vote_count\":958830,\"score\":\"9.4\",\"actors\":[\"汤姆·汉克斯\",\"罗宾·怀特\",\"加里·西尼斯\",\"麦凯尔泰·威廉逊\",\"莎莉·菲尔德\",\"Michael Conner Humphreys\",\"海利·乔·奥斯蒙\"],\"is_watched\":false},{\"rating\":[\"9.4\",\"50\"],\"rank\":4,\"cover_url\":\"https://img3.doubanio.com\\\\/view\\\\/photo\\\\/s_ratio_poster\\\\/public\\\\/p1408665952.jpg\",\"is_playable\":false,\"id\":\"5450891\",\"types\":[\"剧情\",\"爱情\",\"灾难\"],\"regions\":[\"美国\"],\"title\":\"泰坦尼克号 3D版\",\"url\":\"https:\\\\/\\\\/movie.douban.com\\\\/subject\\\\/5450891\\\\/\",\"release_date\":\"2012-04-10\",\"actor_count\":18,\"vote_count\":171099,\"score\":\"9.4\",\"actors\":[\"莱昂纳多·迪卡普里奥\",\"凯特·温丝莱特\",\"比利·赞恩\",\"凯西·贝茨\",\"弗兰西丝·费舍\",\"格劳瑞亚·斯图尔特\",\"比尔·帕克斯顿\",\"伯纳德·希尔\",\"大卫·沃纳\",\"维克多·加博\",\"乔纳森·海德\",\"苏茜·爱米斯\",\"刘易斯·阿伯内西\",\"尼古拉斯·卡斯柯恩\",\"阿那托利·萨加洛维奇\",\"丹尼·努齐\",\"杰森·贝瑞\",\"伊万·斯图尔特\"],\"is_watched\":false},{\"rating\":[\"9.4\",\"50\"],\"rank\":5,\"cover_url\":\"https://img3.doubanio.com\\\\/view\\\\/photo\\\\/s_ratio_poster\\\\/public\\\\/p1161132422.jpg\",\"is_playable\":true,\"id\":\"1291831\",\"types\":[\"剧情\",\"爱情\",\"家庭\"],\"regions\":[\"意大利\"],\"title\":\"灿烂人生\",\"url\":\"https:\\\\/\\\\/movie.douban.com\\\\/subject\\\\/1291831\\\\/\",\"release_date\":\"2003-06-22\",\"actor_count\":13,\"vote_count\":28145,\"score\":\"9.4\",\"actors\":[\"路易吉·洛·卡肖\",\"阿莱西奥·博尼\",\"索尼娅·贝加马斯科\",\"玛雅·珊萨\",\"法布里齐奥·吉福尼\",\"杰丝敏·特丽卡\",\"里卡多·斯卡马乔\",\"安德烈提多娜\",\"瓦伦蒂娜·卡妮卢提\",\"卡米拉·菲利皮\",\"莉迪亚·维塔莱\",\"Claudio Gioè\",\"斯特凡诺·阿伯蒂\"],\"is_watched\":false},{\"rating\":[\"9.4\",\"50\"],\"rank\":6,\"cover_url\":\"https://img3.doubanio.com\\\\/view\\\\/photo\\\\/s_ratio_poster\\\\/public\\\\/p2224933614.jpg\",\"is_playable\":false,\"id\":\"25928148\",\"types\":[\"剧情\",\"爱情\",\"歌舞\"],\"regions\":[\"法国\"],\"title\":\"罗密欧与朱丽叶\",\"url\":\"https:\\\\/\\\\/movie.douban.com\\\\/subject\\\\/25928148\\\\/\",\"release_date\":\"2002-02-06\",\"actor_count\":3,\"vote_count\":1277,\"score\":\"9.4\",\"actors\":[\"达米安·萨格\",\"希西莉亚·卡拉\",\"葛里高利·巴奎特\"],\"is_watched\":false},{\"rating\":[\"9.3\",\"50\"],\"rank\":7,\"cover_url\":\"https://img3.doubanio.com\\\\/view\\\\/photo\\\\/s_ratio_poster\\\\/public\\\\/p457760035.jpg\",\"is_playable\":true,\"id\":\"1292722\",\"types\":[\"剧情\",\"爱情\",\"灾难\"],\"regions\":[\"美国\"],\"title\":\"泰坦尼克号\",\"url\":\"https:\\\\/\\\\/movie.douban.com\\\\/subject\\\\/1292722\\\\/\",\"release_date\":\"1998-04-03\",\"actor_count\":44,\"vote_count\":894438,\"score\":\"9.3\",\"actors\":[\"莱昂纳多·迪卡普里奥\",\"凯特·温丝莱特\",\"比利·赞恩\",\"凯西·贝茨\",\"弗兰西丝·费舍\",\"格劳瑞亚·斯图尔特\",\"比尔·帕克斯顿\",\"伯纳德·希尔\",\"大卫·沃纳\",\"维克多·加博\",\"乔纳森·海德\",\"苏茜·爱米斯\",\"刘易斯·阿伯内西\",\"尼古拉斯·卡斯柯恩\",\"阿那托利·萨加洛维奇\",\"丹尼·努齐\",\"杰森·贝瑞\",\"伊万·斯图尔特\",\"艾恩·格拉法德\",\"乔纳森·菲利普斯\",\"马克·林赛·查普曼\",\"理查德·格拉翰\",\"保罗·布赖特威尔\",\"艾瑞克·布里登\",\"夏洛特·查顿\",\"博纳德·福克斯\",\"迈克尔·英塞恩\",\"法妮·布雷特\",\"马丁·贾维斯\",\"罗莎琳·艾尔斯\",\"罗切尔·罗斯\",\"乔纳森·伊万斯-琼斯\",\"西蒙·克雷恩\",\"爱德华德·弗莱彻\",\"斯科特·安德森\",\"马丁·伊斯特\",\"克雷格·凯利\",\"格雷戈里·库克\",\"利亚姆·图伊\",\"詹姆斯·兰开斯特\",\"艾尔莎·瑞雯\",\"卢·帕尔特\",\"泰瑞·佛瑞斯塔\",\"凯文·德·拉·诺伊\"],\"is_watched\":false},{\"rating\":[\"9.3\",\"50\"],\"rank\":8,\"cover_url\":\"https://img3.doubanio.com\\\\/view\\\\/photo\\\\/s_ratio_poster\\\\/public\\\\/p1461851991.jpg\",\"is_playable\":true,\"id\":\"2131459\",\"types\":[\"爱情\",\"科幻\",\"动画\",\"冒险\"],\"regions\":[\"美国\"],\"title\":\"机器人总动员\",\"url\":\"https:\\\\/\\\\/movie.douban.com\\\\/subject\\\\/2131459\\\\/\",\"release_date\":\"2008-06-27\",\"actor_count\":25,\"vote_count\":646878,\"score\":\"9.3\",\"actors\":[\"本·贝尔特\",\"艾丽莎·奈特\",\"杰夫·格尔林\",\"佛莱德·威拉特\",\"西格妮·韦弗\",\"MacInTalk\",\"约翰·拉岑贝格\",\"凯茜·纳基麦\",\"泰迪·牛顿\",\"鲍伯·伯根\",\"洛丽·理查德森\",\"吉姆·瓦德\",\"彼特·道格特\",\"安德鲁·斯坦顿\",\"杰夫·皮金\",\"约翰·齐甘\",\"米凯·麦高万\",\"雪莉·琳恩\",\"克莱特·惠特克\",\"唐纳德·富利洛夫\",\"罗里·艾伦\",\"杰斯·哈梅尔\",\"拉瑞恩·纽曼\",\"扬·拉布森\",\"保罗·伊丁\"],\"is_watched\":false},{\"rating\":[\"9.3\",\"50\"],\"rank\":9,\"cover_url\":\"https://img3.doubanio.com\\\\/view\\\\/photo\\\\/s_ratio_poster\\\\/public\\\\/p2329626263.jpg\",\"is_playable\":false,\"id\":\"20326557\",\"types\":[\"剧情\",\"爱情\",\"音乐\"],\"regions\":[\"法国\"],\"title\":\"巴黎圣母院\",\"url\":\"https:\\\\/\\\\/movie.douban.com\\\\/subject\\\\/20326557\\\\/\",\"release_date\":\"1999\",\"actor_count\":7,\"vote_count\":3829,\"score\":\"9.3\",\"actors\":[\"海伦娜·赛加拉\",\"加劳\",\"丹尼尔·拉沃伊\",\"布鲁诺·佩尔蒂埃\",\"帕特里克·费欧里\",\"拉克·默维尔\",\"朱丽叶·泽纳缇\"],\"is_watched\":false},{\"rating\":[\"9.2\",\"45\"],\"rank\":10,\"cover_url\":\"https://img3.doubanio.com\\\\/view\\\\/photo\\\\/s_ratio_poster\\\\/public\\\\/p579729551.jpg\",\"is_playable\":false,\"id\":\"3793023\",\"types\":[\"剧情\",\"喜剧\",\"爱情\",\"歌舞\"],\"regions\":[\"印度\"],\"title\":\"三傻大闹宝莱坞\",\"url\":\"https:\\\\/\\\\/movie.douban.com\\\\/subject\\\\/3793023\\\\/\",\"release_date\":\"2011-12-08\",\"actor_count\":8,\"vote_count\":872969,\"score\":\"9.2\",\"actors\":[\"阿米尔·汗\",\"卡琳娜·卡普尔\",\"马达范\",\"沙尔曼·乔希\",\"奥米·瓦依达\",\"博曼·伊拉尼\",\"莫娜·辛格\",\"拉杰夫·拉宾德拉纳特安\"],\"is_watched\":false},{\"rating\":[\"9.2\",\"45\"],\"rank\":11,\"cover_url\":\"https://img3.doubanio.com\\\\/view\\\\/photo\\\\/s_ratio_poster\\\\/public\\\\/p2455050536.jpg\",\"is_playable\":true,\"id\":\"1292213\",\"types\":[\"喜剧\",\"爱情\",\"奇幻\",\"冒险\"],\"regions\":[\"香港\",\"中国大陆\"],\"title\":\"大话西游之大圣娶亲\",\"url\":\"https:\\\\/\\\\/movie.douban.com\\\\/subject\\\\/1292213\\\\/\",\"release_date\":\"2014-10-24\",\"actor_count\":10,\"vote_count\":664593,\"score\":\"9.2\",\"actors\":[\"周星驰\",\"吴孟达\",\"朱茵\",\"蔡少芬\",\"蓝洁瑛\",\"莫文蔚\",\"罗家英\",\"刘镇伟\",\"陆树铭\",\"李健仁\"],\"is_watched\":false},{\"rating\":[\"9.2\",\"50\"],\"rank\":12,\"cover_url\":\"https://img3.doubanio.com\\\\/view\\\\/photo\\\\/s_ratio_poster\\\\/public\\\\/p1963126880.jpg\",\"is_playable\":true,\"id\":\"1300267\",\"types\":[\"剧情\",\"历史\",\"爱情\",\"战争\"],\"regions\":[\"美国\"],\"title\":\"乱世佳人\",\"url\":\"https:\\\\/\\\\/movie.douban.com\\\\/subject\\\\/1300267\\\\/\",\"release_date\":\"1939-12-15\",\"actor_count\":32,\"vote_count\":335382,\"score\":\"9.2\",\"actors\":[\"费雯·丽\",\"克拉克·盖博\",\"奥利维娅·德哈维兰\",\"托马斯·米切尔\",\"芭芭拉·欧内尔\",\"伊夫林·凯耶斯\",\"安·卢瑟福德\",\"乔治·里弗斯\",\"弗莱德·克莱恩\",\"海蒂·麦克丹尼尔斯\",\"奥斯卡·波尔克\",\"巴特弗莱·麦昆\",\"维克托·乔里\",\"埃弗雷特·布朗\",\"霍华德·C·希克曼\",\"艾丽西亚·瑞特\",\"莱斯利·霍华德\",\"兰德·布鲁克斯\",\"卡洛尔·奈\",\"劳拉·霍普·克鲁斯\",\"埃迪·安德森\",\"哈里·达文波特\",\"利昂娜·罗伯特\",\"简·达威尔\",\"欧娜·满森\",\"保罗·赫斯特\",\"伊莎贝尔·朱尔\",\"卡米·金·肯伦\",\"艾瑞克·林登\",\"J·M·克里根\",\"沃德·邦德\",\"莉莲·肯布尔-库珀\"],\"is_watched\":false},{\"rating\":[\"9.2\",\"50\"],\"rank\":13,\"cover_url\":\"https://img3.doubanio.com\\\\/view\\\\/photo\\\\/s_ratio_poster\\\\/public\\\\/p2173707976.jpg\",\"is_playable\":true,\"id\":\"1294371\",\"types\":[\"喜剧\",\"剧情\",\"爱情\"],\"regions\":[\"美国\"],\"title\":\"摩登时代\",\"url\":\"https:\\\\/\\\\/movie.douban.com\\\\/subject\\\\/1294371\\\\/\",\"release_date\":\"1936-02-25\",\"actor_count\":5,\"vote_count\":116162,\"score\":\"9.2\",\"actors\":[\"查理·卓别林\",\"宝莲·高黛\",\"亨利·伯格曼\",\"Tiny Sandford\",\"切斯特·康克林\"],\"is_watched\":false},{\"rating\":[\"9.2\",\"50\"],\"rank\":14,\"cover_url\":\"https://img3.doubanio.com\\\\/view\\\\/photo\\\\/s_ratio_poster\\\\/public\\\\/p2170238803.jpg\",\"is_playable\":true,\"id\":\"1293908\",\"types\":[\"喜剧\",\"剧情\",\"爱情\"],\"regions\":[\"美国\"],\"title\":\"城市之光\",\"url\":\"https:\\\\/\\\\/movie.douban.com\\\\/subject\\\\/1293908\\\\/\",\"release_date\":\"1931-01-30\",\"actor_count\":5,\"vote_count\":53996,\"score\":\"9.2\",\"actors\":[\"查理·卓别林\",\"弗吉尼亚·切瑞尔\",\"佛罗伦斯·李\",\"亨利·伯格曼\",\"珍·哈露\"],\"is_watched\":false},{\"rating\":[\"9.2\",\"50\"],\"rank\":15,\"cover_url\":\"https://img1.doubanio.com\\\\/view\\\\/photo\\\\/s_ratio_poster\\\\/public\\\\/p771490367.jpg\",\"is_playable\":true,\"id\":\"1293749\",\"types\":[\"剧情\",\"爱情\",\"奇幻\"],\"regions\":[\"美国\"],\"title\":\"生活多美好\",\"url\":\"https:\\\\/\\\\/movie.douban.com\\\\/subject\\\\/1293749\\\\/\",\"release_date\":\"1946-12-20\",\"actor_count\":5,\"vote_count\":39002,\"score\":\"9.2\",\"actors\":[\"詹姆斯·斯图尔特\",\"唐娜·里德\",\"莱昂纳尔·巴里摩尔\",\"托马斯·米切尔\",\"亨利·崔佛斯\"],\"is_watched\":false},{\"rating\":[\"9.2\",\"50\"],\"rank\":16,\"cover_url\":\"https://img3.doubanio.com\\\\/view\\\\/photo\\\\/s_ratio_poster\\\\/public\\\\/p2029574250.jpg\",\"is_playable\":false,\"id\":\"4719384\",\"types\":[\"剧情\",\"爱情\",\"家庭\"],\"regions\":[\"中国大陆\"],\"title\":\"哀乐中年\",\"url\":\"https:\\\\/\\\\/movie.douban.com\\\\/subject\\\\/4719384\\\\/\",\"release_date\":\"1949\",\"actor_count\":17,\"vote_count\":5938,\"score\":\"9.2\",\"actors\":[\"石挥\",\"朱嘉琛\",\"沈扬\",\"李浣青\",\"韩非\",\"崔超明\",\"程之\",\"路珊\",\"莫愁\",\"胡小琴\",\"顾慕如\",\"俞仲英\",\"伊斯兰\",\"叶明\",\"林榛\",\"田振东\",\"周瑞德\"],\"is_watched\":false},{\"rating\":[\"9.2\",\"50\"],\"rank\":17,\"cover_url\":\"https://img3.doubanio.com\\\\/view\\\\/photo\\\\/s_ratio_poster\\\\/public\\\\/p2427045524.jpg\",\"is_playable\":false,\"id\":\"26972694\",\"types\":[\"爱情\",\"动画\",\"奇幻\"],\"regions\":[\"中国大陆\"],\"title\":\"狐妖小红娘剧场版：月红篇\",\"url\":\"https:\\\\/\\\\/movie.douban.com\\\\/subject\\\\/26972694\\\\/\",\"release_date\":\"2016-06-24\",\"actor_count\":6,\"vote_count\":2286,\"score\":\"9.2\",\"actors\":[\"杨天翔\",\"刘校妤\",\"张杰\",\"张予佟\",\"张凯\",\"乔诗语\"],\"is_watched\":false},{\"rating\":[\"9.1\",\"45\"],\"rank\":18,\"cover_url\":\"https://img3.doubanio.com\\\\/view\\\\/photo\\\\/s_ratio_poster\\\\/public\\\\/p1910901025.jpg\",\"is_playable\":false,\"id\":\"1291828\",\"types\":[\"剧情\",\"爱情\"],\"regions\":[\"意大利\",\"法国\"],\"title\":\"天堂电影院\",\"url\":\"https:\\\\/\\\\/movie.douban.com\\\\/subject\\\\/1291828\\\\/\",\"release_date\":\"1988-11-17\",\"actor_count\":16,\"vote_count\":368044,\"score\":\"9.1\",\"actors\":[\"安东内拉·阿蒂利\",\"恩佐·卡拉瓦勒\",\"艾萨·丹尼埃利\",\"里奥·故罗塔\",\"马克·莱昂纳蒂\",\"普佩拉·玛奇奥\",\"阿格妮丝·那诺\",\"莱奥波多·特里耶斯泰\",\"萨瓦特利·卡西欧\",\"塔诺·希玛罗萨\",\"尼古拉·迪·平托\",\"罗伯塔·蕾娜\",\"尼诺·戴罗佐\",\"雅克·贝汉\",\"布丽吉特·佛西\",\"菲利普·努瓦雷\"],\"is_watched\":false},{\"rating\":[\"9.1\",\"45\"],\"rank\":19,\"cover_url\":\"https://img3.doubanio.com\\\\/view\\\\/photo\\\\/s_ratio_poster\\\\/public\\\\/p2174804034.jpg\",\"is_playable\":true,\"id\":\"1297880\",\"types\":[\"剧情\",\"爱情\"],\"regions\":[\"中国大陆\"],\"title\":\"芙蓉镇\",\"url\":\"https:\\\\/\\\\/movie.douban.com\\\\/subject\\\\/1297880\\\\/\",\"release_date\":\"1987-03-05\",\"actor_count\":7,\"vote_count\":49742,\"score\":\"9.1\",\"actors\":[\"刘晓庆\",\"姜文\",\"郑在石\",\"张光北\",\"徐松子\",\"祝士彬\",\"刘利年\"],\"is_watched\":false},{\"rating\":[\"9.1\",\"45\"],\"rank\":20,\"cover_url\":\"https://img1.doubanio.com\\\\/view\\\\/photo\\\\/s_ratio_poster\\\\/public\\\\/p541622159.jpg\",\"is_playable\":false,\"id\":\"1769507\",\"types\":[\"剧情\",\"爱情\",\"战争\"],\"regions\":[\"法国\",\"比利时\"],\"title\":\"沉静如海\",\"url\":\"https:\\\\/\\\\/movie.douban.com\\\\/subject\\\\/1769507\\\\/\",\"release_date\":\"2004-10-25\",\"actor_count\":8,\"vote_count\":32659,\"score\":\"9.1\",\"actors\":[\"朱莉·德拉姆\",\"米歇尔·加拉布吕\",\"托马斯·儒阿特\",\"玛丽·布奈尔\",\"Timothée Ferrand\",\"Jean-Baptiste Puech\",\"Jorg Schnass\",\"Jorn Cambreleng\"],\"is_watched\":false},{\"rating\":[\"9.1\",\"45\"],\"rank\":21,\"cover_url\":\"https://img1.doubanio.com\\\\/view\\\\/photo\\\\/s_ratio_poster\\\\/public\\\\/p2328424489.jpg\",\"is_playable\":false,\"id\":\"1303913\",\"types\":[\"剧情\",\"传记\",\"爱情\"],\"regions\":[\"香港\"],\"title\":\"南海十三郎\",\"url\":\"https:\\\\/\\\\/movie.douban.com\\\\/subject\\\\/1303913\\\\/\",\"release_date\":\"1997-05-15\",\"actor_count\":7,\"vote_count\":16601,\"score\":\"9.1\",\"actors\":[\"谢君豪\",\"潘灿良\",\"苏玉华\",\"梁汉威\",\"吴绮莉\",\"黄霑\",\"周志辉\"],\"is_watched\":false}]'"
      ]
     },
     "execution_count": 47,
     "metadata": {},
     "output_type": "execute_result"
    }
   ],
   "source": [
    "# 需求：爬取豆瓣电影中电影详情数据\n",
    "import requests\n",
    "\n",
    "url = 'https://movie.douban.com/j/chart/top_list'\n",
    "headers = {\n",
    "    'User-Agent':'Mozilla/5.0 (Macintosh; Intel Mac OS X 10_14_1) AppleWebKit/537.36 (KHTML, like Gecko) Chrome/70.0.3538.110 Safari/537.36',\n",
    "}\n",
    "# get请求携带的参数\n",
    "params = {\n",
    "    \"type\": \"13\",\n",
    "    \"interval_id\": \"100:90\",\n",
    "    \"action\": \"\",\n",
    "    \"start\": \"1\",\n",
    "    \"limit\": \"20\",\n",
    "}\n",
    "\n",
    "response = requests.get(url=url, params=params,headers=headers)\n",
    "response.text\n"
   ]
  },
  {
   "cell_type": "code",
   "execution_count": null,
   "metadata": {},
   "outputs": [],
   "source": [
    "# 需求：抓肯德基餐厅位置信息\n"
   ]
  }
 ],
 "metadata": {
  "kernelspec": {
   "display_name": "Python 3",
   "language": "python",
   "name": "python3"
  },
  "language_info": {
   "codemirror_mode": {
    "name": "ipython",
    "version": 3
   },
   "file_extension": ".py",
   "mimetype": "text/x-python",
   "name": "python",
   "nbconvert_exporter": "python",
   "pygments_lexer": "ipython3",
   "version": "3.6.5"
  }
 },
 "nbformat": 4,
 "nbformat_minor": 2
}
